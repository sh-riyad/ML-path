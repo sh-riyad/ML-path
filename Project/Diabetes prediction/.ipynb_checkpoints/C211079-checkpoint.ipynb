{
 "cells": [
  {
   "cell_type": "code",
   "execution_count": null,
   "id": "e935c815-a1f6-43e8-92d1-210b873e9378",
   "metadata": {},
   "outputs": [],
   "source": [
    "# importing packages\n",
    "import pandas as pd\n",
    "import numpy as np"
   ]
  },
  {
   "cell_type": "code",
   "execution_count": null,
   "id": "f1f3f1b2-0cda-4866-b187-fe1d86987ecd",
   "metadata": {},
   "outputs": [],
   "source": [
    "# importing dataset\n",
    "dataset = pd.read_csv(\"Heart_Disease.csv\")"
   ]
  },
  {
   "cell_type": "code",
   "execution_count": null,
   "id": "da41bf99-f038-4117-a03c-67776461ca52",
   "metadata": {},
   "outputs": [],
   "source": [
    "print(f\"dataset Shape {dataset.shape}\")"
   ]
  },
  {
   "cell_type": "code",
   "execution_count": null,
   "id": "96137089-0db6-498b-a3df-df04ea99a5fa",
   "metadata": {},
   "outputs": [],
   "source": [
    "# First 10 rows\n",
    "dataset.head(10)"
   ]
  },
  {
   "cell_type": "code",
   "execution_count": null,
   "id": "6ed30ad9-e325-4f32-88fd-53a6344c8c3e",
   "metadata": {},
   "outputs": [],
   "source": [
    "# Last 10 rows\n",
    "dataset.tail(10)"
   ]
  },
  {
   "cell_type": "code",
   "execution_count": null,
   "id": "1d3e81fc-de0a-4f97-b103-1b54f90acc03",
   "metadata": {},
   "outputs": [],
   "source": [
    "# information about columns\n",
    "dataset.info()"
   ]
  },
  {
   "cell_type": "code",
   "execution_count": null,
   "id": "5364ebac-85a1-44c6-86c3-64157c930082",
   "metadata": {},
   "outputs": [],
   "source": [
    "# statistical measurement\n",
    "dataset.describe()"
   ]
  },
  {
   "cell_type": "markdown",
   "id": "ff2162e8-118d-455c-a5f7-5e740dcce274",
   "metadata": {},
   "source": [
    "## Missing value"
   ]
  },
  {
   "cell_type": "code",
   "execution_count": null,
   "id": "9b3160bf-dd3d-44b8-b07d-14394873813b",
   "metadata": {},
   "outputs": [],
   "source": [
    "# Count missing data\n",
    "dataset.isna().sum()"
   ]
  },
  {
   "cell_type": "code",
   "execution_count": null,
   "id": "3ab90650-5efa-4318-8480-2cb886d2a668",
   "metadata": {},
   "outputs": [],
   "source": [
    "# Numerical Missing value\n",
    "from sklearn.impute import SimpleImputer\n",
    "imp_mean = SimpleImputer(missing_values=np.nan, strategy='mean')\n",
    "\n",
    "dataset[['Sex','BP','Cholesterol','ST depression']] = imp_mean.fit_transform(dataset[['Sex','BP','Cholesterol','ST depression']])"
   ]
  },
  {
   "cell_type": "code",
   "execution_count": null,
   "id": "2cf78bf1-7eb9-4892-b805-fae73f8cb8ff",
   "metadata": {},
   "outputs": [],
   "source": [
    "dataset.head()"
   ]
  },
  {
   "cell_type": "markdown",
   "id": "e64472b9-d13a-4f1b-8b32-814703f74165",
   "metadata": {},
   "source": [
    "# Scaling"
   ]
  },
  {
   "cell_type": "code",
   "execution_count": null,
   "id": "cb088cdd-21de-4945-aeb8-42972218eb49",
   "metadata": {},
   "outputs": [],
   "source": [
    "from sklearn.preprocessing import MinMaxScaler\n",
    "scaler = MinMaxScaler()\n",
    "\n",
    "for column in dataset.columns:\n",
    "    if column == 'Heart Disease':\n",
    "        continue\n",
    "    else:\n",
    "        scaler.fit_transform(dataset[[column]])\n",
    "    "
   ]
  },
  {
   "cell_type": "code",
   "execution_count": null,
   "id": "8b48c8c9-e3d1-4897-9491-f29833b50784",
   "metadata": {},
   "outputs": [],
   "source": [
    "dataset.head()"
   ]
  },
  {
   "cell_type": "markdown",
   "id": "d646decf-3d7b-418c-8593-1fd55a8ed96f",
   "metadata": {},
   "source": [
    "# Encoding"
   ]
  },
  {
   "cell_type": "code",
   "execution_count": null,
   "id": "e0d9aecd-7c65-4c9f-a0d4-9a437fe1a44f",
   "metadata": {},
   "outputs": [],
   "source": [
    "dataset[\"Heart Disease\"].unique()"
   ]
  },
  {
   "cell_type": "code",
   "execution_count": null,
   "id": "7f80270f-7e14-4eba-a893-2e5c04a1339e",
   "metadata": {},
   "outputs": [],
   "source": [
    "# Changing categorical into numerical\n",
    "dataset[\"Heart Disease\"] = dataset[\"Heart Disease\"].map({\"Absence\": 0, \"Presence\": 1})\n",
    "dataset.head()"
   ]
  },
  {
   "cell_type": "code",
   "execution_count": null,
   "id": "786b5a02-746a-419e-aa1f-88a09f2cc407",
   "metadata": {},
   "outputs": [],
   "source": []
  }
 ],
 "metadata": {
  "kernelspec": {
   "display_name": "Python 3 (ipykernel)",
   "language": "python",
   "name": "python3"
  },
  "language_info": {
   "codemirror_mode": {
    "name": "ipython",
    "version": 3
   },
   "file_extension": ".py",
   "mimetype": "text/x-python",
   "name": "python",
   "nbconvert_exporter": "python",
   "pygments_lexer": "ipython3",
   "version": "3.11.5"
  }
 },
 "nbformat": 4,
 "nbformat_minor": 5
}
